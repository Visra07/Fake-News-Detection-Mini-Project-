{
 "cells": [
  {
   "cell_type": "code",
   "execution_count": 1,
   "metadata": {},
   "outputs": [],
   "source": [
    "import numpy as np\n",
    "import pandas as pd\n",
    "import matplotlib.pyplot as plt\n",
    "from sklearn.model_selection import train_test_split\n",
    "from sklearn.naive_bayes import MultinomialNB\n",
    "from sklearn.linear_model import LogisticRegression\n",
    "from sklearn.ensemble import RandomForestClassifier\n",
    "from sklearn.feature_extraction.text import CountVectorizer\n",
    "from sklearn.feature_extraction.text import TfidfVectorizer\n",
    "from sklearn.ensemble import RandomForestClassifier, GradientBoostingClassifier\n",
    "from sklearn.svm import SVC\n",
    "from sklearn import metrics\n",
    "import itertools\n",
    "from sklearn.linear_model import PassiveAggressiveClassifier\n",
    "import re\n",
    "import time\n",
    "import pickle\n",
    "import zlib\n",
    "\n",
    "import nltk \n",
    "from nltk.tokenize import word_tokenize \n",
    "from sklearn.svm import SVC\n",
    "from sklearn.linear_model import LogisticRegression\n",
    "from tqdm import tqdm\n",
    "import seaborn as sb\n",
    "%matplotlib inline"
   ]
  },
  {
   "cell_type": "code",
   "execution_count": 2,
   "metadata": {},
   "outputs": [
    {
     "data": {
      "text/html": [
       "<div>\n",
       "<style scoped>\n",
       "    .dataframe tbody tr th:only-of-type {\n",
       "        vertical-align: middle;\n",
       "    }\n",
       "\n",
       "    .dataframe tbody tr th {\n",
       "        vertical-align: top;\n",
       "    }\n",
       "\n",
       "    .dataframe thead th {\n",
       "        text-align: right;\n",
       "    }\n",
       "</style>\n",
       "<table border=\"1\" class=\"dataframe\">\n",
       "  <thead>\n",
       "    <tr style=\"text-align: right;\">\n",
       "      <th></th>\n",
       "      <th>Unnamed: 0</th>\n",
       "      <th>text</th>\n",
       "      <th>labels</th>\n",
       "    </tr>\n",
       "  </thead>\n",
       "  <tbody>\n",
       "    <tr>\n",
       "      <th>0</th>\n",
       "      <td>1230</td>\n",
       "      <td>HORRIFYING! Raining Spiders In Brazil HORRIFYI...</td>\n",
       "      <td>real</td>\n",
       "    </tr>\n",
       "    <tr>\n",
       "      <th>1</th>\n",
       "      <td>5080</td>\n",
       "      <td>Report: Freddie Gray sustained injury in polic...</td>\n",
       "      <td>real</td>\n",
       "    </tr>\n",
       "    <tr>\n",
       "      <th>2</th>\n",
       "      <td>9200</td>\n",
       "      <td>Clinton, FBIGate and the true depth of the Oba...</td>\n",
       "      <td>fake</td>\n",
       "    </tr>\n",
       "    <tr>\n",
       "      <th>3</th>\n",
       "      <td>4745</td>\n",
       "      <td>Paris climate summit: What to expect from hist...</td>\n",
       "      <td>real</td>\n",
       "    </tr>\n",
       "    <tr>\n",
       "      <th>4</th>\n",
       "      <td>7664</td>\n",
       "      <td>Why Isn’t NSA Surveillance an Election Issue? ...</td>\n",
       "      <td>fake</td>\n",
       "    </tr>\n",
       "    <tr>\n",
       "      <th>...</th>\n",
       "      <td>...</td>\n",
       "      <td>...</td>\n",
       "      <td>...</td>\n",
       "    </tr>\n",
       "    <tr>\n",
       "      <th>10339</th>\n",
       "      <td>3691</td>\n",
       "      <td>Neck Deep scrap Nottingham show over 'heavy-ha...</td>\n",
       "      <td>fake</td>\n",
       "    </tr>\n",
       "    <tr>\n",
       "      <th>10340</th>\n",
       "      <td>2605</td>\n",
       "      <td>White House Tax Reform Goals focus on Rates an...</td>\n",
       "      <td>real</td>\n",
       "    </tr>\n",
       "    <tr>\n",
       "      <th>10341</th>\n",
       "      <td>9052</td>\n",
       "      <td>Initial prognosis poor for Obama’s immigration...</td>\n",
       "      <td>real</td>\n",
       "    </tr>\n",
       "    <tr>\n",
       "      <th>10342</th>\n",
       "      <td>9954</td>\n",
       "      <td>Break the Silence or Support Self-Determinatio...</td>\n",
       "      <td>fake</td>\n",
       "    </tr>\n",
       "    <tr>\n",
       "      <th>10343</th>\n",
       "      <td>2753</td>\n",
       "      <td>Trump Addresses the Nation After Las Vegas Sho...</td>\n",
       "      <td>real</td>\n",
       "    </tr>\n",
       "  </tbody>\n",
       "</table>\n",
       "<p>10344 rows × 3 columns</p>\n",
       "</div>"
      ],
      "text/plain": [
       "       Unnamed: 0                                               text labels\n",
       "0            1230  HORRIFYING! Raining Spiders In Brazil HORRIFYI...   real\n",
       "1            5080  Report: Freddie Gray sustained injury in polic...   real\n",
       "2            9200  Clinton, FBIGate and the true depth of the Oba...   fake\n",
       "3            4745  Paris climate summit: What to expect from hist...   real\n",
       "4            7664  Why Isn’t NSA Surveillance an Election Issue? ...   fake\n",
       "...           ...                                                ...    ...\n",
       "10339        3691  Neck Deep scrap Nottingham show over 'heavy-ha...   fake\n",
       "10340        2605  White House Tax Reform Goals focus on Rates an...   real\n",
       "10341        9052  Initial prognosis poor for Obama’s immigration...   real\n",
       "10342        9954  Break the Silence or Support Self-Determinatio...   fake\n",
       "10343        2753  Trump Addresses the Nation After Las Vegas Sho...   real\n",
       "\n",
       "[10344 rows x 3 columns]"
      ]
     },
     "execution_count": 2,
     "metadata": {},
     "output_type": "execute_result"
    }
   ],
   "source": [
    "df = pd.read_csv('Data_Preperation/final_data')\n",
    "df.shape\n",
    "df"
   ]
  },
  {
   "cell_type": "code",
   "execution_count": 3,
   "metadata": {},
   "outputs": [
    {
     "data": {
      "text/html": [
       "<div>\n",
       "<style scoped>\n",
       "    .dataframe tbody tr th:only-of-type {\n",
       "        vertical-align: middle;\n",
       "    }\n",
       "\n",
       "    .dataframe tbody tr th {\n",
       "        vertical-align: top;\n",
       "    }\n",
       "\n",
       "    .dataframe thead th {\n",
       "        text-align: right;\n",
       "    }\n",
       "</style>\n",
       "<table border=\"1\" class=\"dataframe\">\n",
       "  <thead>\n",
       "    <tr style=\"text-align: right;\">\n",
       "      <th></th>\n",
       "      <th>text</th>\n",
       "      <th>labels</th>\n",
       "    </tr>\n",
       "  </thead>\n",
       "  <tbody>\n",
       "    <tr>\n",
       "      <th>0</th>\n",
       "      <td>HORRIFYING! Raining Spiders In Brazil HORRIFYI...</td>\n",
       "      <td>real</td>\n",
       "    </tr>\n",
       "    <tr>\n",
       "      <th>1</th>\n",
       "      <td>Report: Freddie Gray sustained injury in polic...</td>\n",
       "      <td>real</td>\n",
       "    </tr>\n",
       "    <tr>\n",
       "      <th>2</th>\n",
       "      <td>Clinton, FBIGate and the true depth of the Oba...</td>\n",
       "      <td>fake</td>\n",
       "    </tr>\n",
       "    <tr>\n",
       "      <th>3</th>\n",
       "      <td>Paris climate summit: What to expect from hist...</td>\n",
       "      <td>real</td>\n",
       "    </tr>\n",
       "    <tr>\n",
       "      <th>4</th>\n",
       "      <td>Why Isn’t NSA Surveillance an Election Issue? ...</td>\n",
       "      <td>fake</td>\n",
       "    </tr>\n",
       "    <tr>\n",
       "      <th>...</th>\n",
       "      <td>...</td>\n",
       "      <td>...</td>\n",
       "    </tr>\n",
       "    <tr>\n",
       "      <th>10339</th>\n",
       "      <td>Neck Deep scrap Nottingham show over 'heavy-ha...</td>\n",
       "      <td>fake</td>\n",
       "    </tr>\n",
       "    <tr>\n",
       "      <th>10340</th>\n",
       "      <td>White House Tax Reform Goals focus on Rates an...</td>\n",
       "      <td>real</td>\n",
       "    </tr>\n",
       "    <tr>\n",
       "      <th>10341</th>\n",
       "      <td>Initial prognosis poor for Obama’s immigration...</td>\n",
       "      <td>real</td>\n",
       "    </tr>\n",
       "    <tr>\n",
       "      <th>10342</th>\n",
       "      <td>Break the Silence or Support Self-Determinatio...</td>\n",
       "      <td>fake</td>\n",
       "    </tr>\n",
       "    <tr>\n",
       "      <th>10343</th>\n",
       "      <td>Trump Addresses the Nation After Las Vegas Sho...</td>\n",
       "      <td>real</td>\n",
       "    </tr>\n",
       "  </tbody>\n",
       "</table>\n",
       "<p>10344 rows × 2 columns</p>\n",
       "</div>"
      ],
      "text/plain": [
       "                                                    text labels\n",
       "0      HORRIFYING! Raining Spiders In Brazil HORRIFYI...   real\n",
       "1      Report: Freddie Gray sustained injury in polic...   real\n",
       "2      Clinton, FBIGate and the true depth of the Oba...   fake\n",
       "3      Paris climate summit: What to expect from hist...   real\n",
       "4      Why Isn’t NSA Surveillance an Election Issue? ...   fake\n",
       "...                                                  ...    ...\n",
       "10339  Neck Deep scrap Nottingham show over 'heavy-ha...   fake\n",
       "10340  White House Tax Reform Goals focus on Rates an...   real\n",
       "10341  Initial prognosis poor for Obama’s immigration...   real\n",
       "10342  Break the Silence or Support Self-Determinatio...   fake\n",
       "10343  Trump Addresses the Nation After Las Vegas Sho...   real\n",
       "\n",
       "[10344 rows x 2 columns]"
      ]
     },
     "execution_count": 3,
     "metadata": {},
     "output_type": "execute_result"
    }
   ],
   "source": [
    "df.drop('Unnamed: 0', axis=1, inplace=True)\n",
    "df"
   ]
  },
  {
   "cell_type": "code",
   "execution_count": 4,
   "metadata": {},
   "outputs": [
    {
     "name": "stdout",
     "output_type": "stream",
     "text": [
      " There are 21 NaN values in text\n",
      " There are 0 NaN values in labels\n"
     ]
    }
   ],
   "source": [
    "# Finding NaN values in the dataset\n",
    "\n",
    "nan = df['text'].loc[df['text'].isnull()]\n",
    "print(\" There are {} NaN values in text\".format(len(nan)))\n",
    "\n",
    "nan = df['labels'].loc[df['labels'].isnull()]\n",
    "print(\" There are {} NaN values in labels\".format(len(nan)))"
   ]
  },
  {
   "cell_type": "code",
   "execution_count": 5,
   "metadata": {},
   "outputs": [],
   "source": [
    "df = df.dropna()"
   ]
  },
  {
   "cell_type": "code",
   "execution_count": 6,
   "metadata": {},
   "outputs": [
    {
     "name": "stdout",
     "output_type": "stream",
     "text": [
      " There are 0 NaN values in text\n",
      " There are 0 NaN values in labels\n"
     ]
    }
   ],
   "source": [
    "# Finding NaN values in the dataset\n",
    "\n",
    "nan = df['text'].loc[df['text'].isnull()]\n",
    "print(\" There are {} NaN values in text\".format(len(nan)))\n",
    "\n",
    "nan = df['labels'].loc[df['labels'].isnull()]\n",
    "print(\" There are {} NaN values in labels\".format(len(nan)))"
   ]
  },
  {
   "cell_type": "code",
   "execution_count": 7,
   "metadata": {},
   "outputs": [
    {
     "data": {
      "text/plain": [
       "(10323, 2)"
      ]
     },
     "execution_count": 7,
     "metadata": {},
     "output_type": "execute_result"
    }
   ],
   "source": [
    "df.shape"
   ]
  },
  {
   "cell_type": "code",
   "execution_count": 8,
   "metadata": {},
   "outputs": [
    {
     "name": "stderr",
     "output_type": "stream",
     "text": [
      "100%|██████████████████████████████████████████████████████████████████████████| 10323/10323 [00:03<00:00, 2953.87it/s]\n",
      "D:\\python\\lib\\site-packages\\ipykernel_launcher.py:13: SettingWithCopyWarning: \n",
      "A value is trying to be set on a copy of a slice from a DataFrame.\n",
      "Try using .loc[row_indexer,col_indexer] = value instead\n",
      "\n",
      "See the caveats in the documentation: https://pandas.pydata.org/pandas-docs/stable/user_guide/indexing.html#returning-a-view-versus-a-copy\n",
      "  del sys.path[0]\n"
     ]
    }
   ],
   "source": [
    "preprocessed_text = []\n",
    "# tqdm is for printing the status bar\n",
    "for sentance in tqdm(df['text'].values):\n",
    "    #sent = decontracted(sentance)\n",
    "    sentance = sentance.replace('\\\\r', ' ')\n",
    "    sentance = sentance.replace('\\\\\"', ' ')\n",
    "    sentance = sentance.replace('\\\\n', ' ')\n",
    "    sentance = re.sub('[^A-Za-z0-9]+', ' ', sentance)\n",
    "    # https://gist.github.com/sebleier/554280\n",
    "    #sentance = ' '.join(e for e in sentance.split() if e.lower() not in stopwords)\n",
    "    preprocessed_text.append(sentance.lower().strip())\n",
    "\n",
    "df['text'] = preprocessed_text"
   ]
  },
  {
   "cell_type": "code",
   "execution_count": 9,
   "metadata": {},
   "outputs": [],
   "source": [
    "y = df['labels']\n",
    "X = df['text']"
   ]
  },
  {
   "cell_type": "code",
   "execution_count": 10,
   "metadata": {},
   "outputs": [],
   "source": [
    "X_train,X_test,y_train,y_test = train_test_split(X,y,test_size = 0.3,)"
   ]
  },
  {
   "cell_type": "code",
   "execution_count": 11,
   "metadata": {},
   "outputs": [],
   "source": [
    "tfidf_vect = TfidfVectorizer(max_features=12000)\n",
    "tfidf_train = tfidf_vect.fit_transform(X_train)\n",
    "tfidf_test = tfidf_vect.transform(X_test)\n",
    "tfidf_df = pd.DataFrame(tfidf_train.A, columns=tfidf_vect.get_feature_names())"
   ]
  },
  {
   "cell_type": "code",
   "execution_count": 12,
   "metadata": {},
   "outputs": [],
   "source": [
    "filepath = 'web\\\\vectorizer.pkl'\n",
    "pickle.dump(tfidf_vect, open(filepath, 'wb'))"
   ]
  },
  {
   "cell_type": "code",
   "execution_count": 13,
   "metadata": {},
   "outputs": [
    {
     "name": "stdout",
     "output_type": "stream",
     "text": [
      "The Score is: \n",
      "0.8579270261543429\n",
      "[[1311  198]\n",
      " [ 242 1346]]\n"
     ]
    }
   ],
   "source": [
    "clf = MultinomialNB() \n",
    "clf.fit(tfidf_train, y_train)                      \n",
    "pred = clf.predict(tfidf_test)                     \n",
    "score = metrics.accuracy_score(y_test, pred)\n",
    "print(\"The Score is: \")  \n",
    "print(score)\n",
    "cm = metrics.confusion_matrix(y_test, pred)\n",
    "print(cm)"
   ]
  },
  {
   "cell_type": "code",
   "execution_count": 14,
   "metadata": {},
   "outputs": [
    {
     "name": "stdout",
     "output_type": "stream",
     "text": [
      "The Score is: \n",
      "0.8850500484339684\n",
      "[[1331  178]\n",
      " [ 178 1410]]\n"
     ]
    }
   ],
   "source": [
    "clf = GradientBoostingClassifier()\n",
    "clf.fit(tfidf_train, y_train)\n",
    "pred = clf.predict(tfidf_test)\n",
    "score = metrics.accuracy_score(y_test, pred)\n",
    "print(\"The Score is: \")  \n",
    "print(score)\n",
    "cm = metrics.confusion_matrix(y_test, pred)\n",
    "print(cm)"
   ]
  },
  {
   "cell_type": "code",
   "execution_count": 15,
   "metadata": {},
   "outputs": [
    {
     "data": {
      "text/plain": [
       "0.9118501775912173"
      ]
     },
     "execution_count": 15,
     "metadata": {},
     "output_type": "execute_result"
    }
   ],
   "source": [
    "clf1  = RandomForestClassifier(n_estimators=1725, random_state=1, n_jobs=-1, class_weight='balanced')\n",
    "clf1.fit(tfidf_train, y_train)\n",
    "clf1.score(tfidf_test, y_test)"
   ]
  },
  {
   "cell_type": "code",
   "execution_count": 16,
   "metadata": {},
   "outputs": [
    {
     "name": "stdout",
     "output_type": "stream",
     "text": [
      "The Score is: \n",
      "0.9228285437520181\n",
      "[[1391  118]\n",
      " [ 121 1467]]\n"
     ]
    }
   ],
   "source": [
    "clf = SVC(C=100, gamma=0.1,probability=True)\n",
    "clf.fit(tfidf_train, y_train)\n",
    "pred = clf.predict(tfidf_test)\n",
    "score = metrics.accuracy_score(y_test, pred)\n",
    "print(\"The Score is: \")  \n",
    "print(score)\n",
    "cm = metrics.confusion_matrix(y_test, pred)\n",
    "print(cm)"
   ]
  },
  {
   "cell_type": "code",
   "execution_count": 17,
   "metadata": {},
   "outputs": [],
   "source": [
    "filepath = 'web\\\\classifier.pkl'\n",
    "pickle.dump(clf1, open(filepath, 'wb'))"
   ]
  },
  {
   "cell_type": "code",
   "execution_count": null,
   "metadata": {},
   "outputs": [],
   "source": []
  },
  {
   "cell_type": "code",
   "execution_count": null,
   "metadata": {},
   "outputs": [],
   "source": []
  },
  {
   "cell_type": "code",
   "execution_count": null,
   "metadata": {},
   "outputs": [],
   "source": []
  },
  {
   "cell_type": "code",
   "execution_count": null,
   "metadata": {},
   "outputs": [],
   "source": []
  }
 ],
 "metadata": {
  "kernelspec": {
   "display_name": "Python 3",
   "language": "python",
   "name": "python3"
  },
  "language_info": {
   "codemirror_mode": {
    "name": "ipython",
    "version": 3
   },
   "file_extension": ".py",
   "mimetype": "text/x-python",
   "name": "python",
   "nbconvert_exporter": "python",
   "pygments_lexer": "ipython3",
   "version": "3.7.7"
  }
 },
 "nbformat": 4,
 "nbformat_minor": 4
}
